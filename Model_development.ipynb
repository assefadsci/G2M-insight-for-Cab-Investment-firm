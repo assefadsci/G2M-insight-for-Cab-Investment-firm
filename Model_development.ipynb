{
 "cells": [
  {
   "cell_type": "code",
   "execution_count": 1,
   "id": "26127cc4",
   "metadata": {},
   "outputs": [],
   "source": [
    "# Import important libraries\n",
    "import pandas as pd\n",
    "import numpy as np \n",
    "import matplotlib.pyplot as plt\n",
    "import seaborn as sns\n",
    "\n",
    "from datetime import datetime, timedelta\n",
    "import scipy.stats\n",
    "from sklearn.preprocessing import PowerTransformer\n",
    "\n",
    "pd.set_option('max_columns', None)\n",
    "\n",
    "from sklearn.model_selection import train_test_split\n",
    "from sklearn.preprocessing import StandardScaler\n",
    "\n",
    "from sklearn.linear_model import LinearRegression, ElasticNet, ElasticNetCV, LassoCV, Ridge, RidgeCV\n",
    "from sklearn.model_selection import GridSearchCV\n",
    "\n",
    "from sklearn.metrics import mean_squared_error, mean_absolute_error, r2_score\n",
    "\n",
    "#from pycaret.regression import setup, compare_models\n"
   ]
  },
  {
   "cell_type": "markdown",
   "id": "cfc2a022",
   "metadata": {},
   "source": [
    "### Creating Master Data"
   ]
  },
  {
   "cell_type": "code",
   "execution_count": 2,
   "id": "30991862",
   "metadata": {},
   "outputs": [
    {
     "data": {
      "text/html": [
       "<div>\n",
       "<style scoped>\n",
       "    .dataframe tbody tr th:only-of-type {\n",
       "        vertical-align: middle;\n",
       "    }\n",
       "\n",
       "    .dataframe tbody tr th {\n",
       "        vertical-align: top;\n",
       "    }\n",
       "\n",
       "    .dataframe thead th {\n",
       "        text-align: right;\n",
       "    }\n",
       "</style>\n",
       "<table border=\"1\" class=\"dataframe\">\n",
       "  <thead>\n",
       "    <tr style=\"text-align: right;\">\n",
       "      <th></th>\n",
       "      <th>Transaction ID</th>\n",
       "      <th>Date of Travel</th>\n",
       "      <th>Company</th>\n",
       "      <th>City</th>\n",
       "      <th>KM Travelled</th>\n",
       "      <th>Price Charged</th>\n",
       "      <th>Cost of Trip</th>\n",
       "      <th>Customer ID</th>\n",
       "      <th>Payment_Mode</th>\n",
       "      <th>Gender</th>\n",
       "      <th>Age</th>\n",
       "      <th>Income (USD/Month)</th>\n",
       "      <th>Population</th>\n",
       "      <th>Users</th>\n",
       "    </tr>\n",
       "  </thead>\n",
       "  <tbody>\n",
       "    <tr>\n",
       "      <th>0</th>\n",
       "      <td>10000011</td>\n",
       "      <td>42377</td>\n",
       "      <td>Pink Cab</td>\n",
       "      <td>ATLANTA GA</td>\n",
       "      <td>30.45</td>\n",
       "      <td>370.95</td>\n",
       "      <td>313.6350</td>\n",
       "      <td>29290</td>\n",
       "      <td>Card</td>\n",
       "      <td>Male</td>\n",
       "      <td>28</td>\n",
       "      <td>10813</td>\n",
       "      <td>814,885</td>\n",
       "      <td>24,701</td>\n",
       "    </tr>\n",
       "    <tr>\n",
       "      <th>1</th>\n",
       "      <td>10351127</td>\n",
       "      <td>43302</td>\n",
       "      <td>Yellow Cab</td>\n",
       "      <td>ATLANTA GA</td>\n",
       "      <td>26.19</td>\n",
       "      <td>598.70</td>\n",
       "      <td>317.4228</td>\n",
       "      <td>29290</td>\n",
       "      <td>Cash</td>\n",
       "      <td>Male</td>\n",
       "      <td>28</td>\n",
       "      <td>10813</td>\n",
       "      <td>814,885</td>\n",
       "      <td>24,701</td>\n",
       "    </tr>\n",
       "    <tr>\n",
       "      <th>2</th>\n",
       "      <td>10412921</td>\n",
       "      <td>43427</td>\n",
       "      <td>Yellow Cab</td>\n",
       "      <td>ATLANTA GA</td>\n",
       "      <td>42.55</td>\n",
       "      <td>792.05</td>\n",
       "      <td>597.4020</td>\n",
       "      <td>29290</td>\n",
       "      <td>Card</td>\n",
       "      <td>Male</td>\n",
       "      <td>28</td>\n",
       "      <td>10813</td>\n",
       "      <td>814,885</td>\n",
       "      <td>24,701</td>\n",
       "    </tr>\n",
       "  </tbody>\n",
       "</table>\n",
       "</div>"
      ],
      "text/plain": [
       "   Transaction ID  Date of Travel     Company        City  KM Travelled  \\\n",
       "0        10000011           42377    Pink Cab  ATLANTA GA         30.45   \n",
       "1        10351127           43302  Yellow Cab  ATLANTA GA         26.19   \n",
       "2        10412921           43427  Yellow Cab  ATLANTA GA         42.55   \n",
       "\n",
       "   Price Charged  Cost of Trip  Customer ID Payment_Mode Gender  Age  \\\n",
       "0         370.95      313.6350        29290         Card   Male   28   \n",
       "1         598.70      317.4228        29290         Cash   Male   28   \n",
       "2         792.05      597.4020        29290         Card   Male   28   \n",
       "\n",
       "   Income (USD/Month) Population     Users  \n",
       "0               10813   814,885    24,701   \n",
       "1               10813   814,885    24,701   \n",
       "2               10813   814,885    24,701   "
      ]
     },
     "execution_count": 2,
     "metadata": {},
     "output_type": "execute_result"
    }
   ],
   "source": [
    "# create master_data\n",
    "cab= pd.read_csv('Cab_Data.csv')\n",
    "transaction_id= pd.read_csv('Transaction_ID.csv')\n",
    "customer_id= pd.read_csv('Customer_ID.csv')\n",
    "city = pd.read_csv('City.csv')\n",
    "\n",
    "# creating master dataset\n",
    "master_data= cab.merge(transaction_id, on= 'Transaction ID').merge(customer_id, on='Customer ID').merge(city, on='City')\n",
    "\n",
    "# look at the first few rows of the master dataframe\n",
    "master_data.head(3)"
   ]
  },
  {
   "cell_type": "code",
   "execution_count": 3,
   "id": "c83ecabe",
   "metadata": {},
   "outputs": [
    {
     "name": "stdout",
     "output_type": "stream",
     "text": [
      "<class 'pandas.core.frame.DataFrame'>\n",
      "Int64Index: 359392 entries, 0 to 359391\n",
      "Data columns (total 14 columns):\n",
      " #   Column              Non-Null Count   Dtype  \n",
      "---  ------              --------------   -----  \n",
      " 0   Transaction ID      359392 non-null  int64  \n",
      " 1   Date of Travel      359392 non-null  int64  \n",
      " 2   Company             359392 non-null  object \n",
      " 3   City                359392 non-null  object \n",
      " 4   KM Travelled        359392 non-null  float64\n",
      " 5   Price Charged       359392 non-null  float64\n",
      " 6   Cost of Trip        359392 non-null  float64\n",
      " 7   Customer ID         359392 non-null  int64  \n",
      " 8   Payment_Mode        359392 non-null  object \n",
      " 9   Gender              359392 non-null  object \n",
      " 10  Age                 359392 non-null  int64  \n",
      " 11  Income (USD/Month)  359392 non-null  int64  \n",
      " 12  Population          359392 non-null  object \n",
      " 13  Users               359392 non-null  object \n",
      "dtypes: float64(3), int64(5), object(6)\n",
      "memory usage: 41.1+ MB\n"
     ]
    }
   ],
   "source": [
    "# get some info about the data\n",
    "master_data.info()"
   ]
  },
  {
   "cell_type": "code",
   "execution_count": 4,
   "id": "4eb288f2",
   "metadata": {},
   "outputs": [
    {
     "data": {
      "text/html": [
       "<div>\n",
       "<style scoped>\n",
       "    .dataframe tbody tr th:only-of-type {\n",
       "        vertical-align: middle;\n",
       "    }\n",
       "\n",
       "    .dataframe tbody tr th {\n",
       "        vertical-align: top;\n",
       "    }\n",
       "\n",
       "    .dataframe thead th {\n",
       "        text-align: right;\n",
       "    }\n",
       "</style>\n",
       "<table border=\"1\" class=\"dataframe\">\n",
       "  <thead>\n",
       "    <tr style=\"text-align: right;\">\n",
       "      <th></th>\n",
       "      <th>count</th>\n",
       "      <th>mean</th>\n",
       "      <th>std</th>\n",
       "      <th>min</th>\n",
       "      <th>25%</th>\n",
       "      <th>50%</th>\n",
       "      <th>75%</th>\n",
       "      <th>max</th>\n",
       "    </tr>\n",
       "  </thead>\n",
       "  <tbody>\n",
       "    <tr>\n",
       "      <th>Transaction ID</th>\n",
       "      <td>359392.0</td>\n",
       "      <td>1.022076e+07</td>\n",
       "      <td>126805.803715</td>\n",
       "      <td>10000011.0</td>\n",
       "      <td>1.011081e+07</td>\n",
       "      <td>10221035.50</td>\n",
       "      <td>1.033094e+07</td>\n",
       "      <td>10440107.00</td>\n",
       "    </tr>\n",
       "    <tr>\n",
       "      <th>Date of Travel</th>\n",
       "      <td>359392.0</td>\n",
       "      <td>4.296407e+04</td>\n",
       "      <td>307.467197</td>\n",
       "      <td>42371.0</td>\n",
       "      <td>4.269700e+04</td>\n",
       "      <td>42988.00</td>\n",
       "      <td>4.323200e+04</td>\n",
       "      <td>43465.00</td>\n",
       "    </tr>\n",
       "    <tr>\n",
       "      <th>KM Travelled</th>\n",
       "      <td>359392.0</td>\n",
       "      <td>2.256725e+01</td>\n",
       "      <td>12.233526</td>\n",
       "      <td>1.9</td>\n",
       "      <td>1.200000e+01</td>\n",
       "      <td>22.44</td>\n",
       "      <td>3.296000e+01</td>\n",
       "      <td>48.00</td>\n",
       "    </tr>\n",
       "    <tr>\n",
       "      <th>Price Charged</th>\n",
       "      <td>359392.0</td>\n",
       "      <td>4.234433e+02</td>\n",
       "      <td>274.378911</td>\n",
       "      <td>15.6</td>\n",
       "      <td>2.064375e+02</td>\n",
       "      <td>386.36</td>\n",
       "      <td>5.836600e+02</td>\n",
       "      <td>2048.03</td>\n",
       "    </tr>\n",
       "    <tr>\n",
       "      <th>Cost of Trip</th>\n",
       "      <td>359392.0</td>\n",
       "      <td>2.861901e+02</td>\n",
       "      <td>157.993661</td>\n",
       "      <td>19.0</td>\n",
       "      <td>1.512000e+02</td>\n",
       "      <td>282.48</td>\n",
       "      <td>4.136832e+02</td>\n",
       "      <td>691.20</td>\n",
       "    </tr>\n",
       "    <tr>\n",
       "      <th>Customer ID</th>\n",
       "      <td>359392.0</td>\n",
       "      <td>1.919165e+04</td>\n",
       "      <td>21012.412463</td>\n",
       "      <td>1.0</td>\n",
       "      <td>2.705000e+03</td>\n",
       "      <td>7459.00</td>\n",
       "      <td>3.607800e+04</td>\n",
       "      <td>60000.00</td>\n",
       "    </tr>\n",
       "    <tr>\n",
       "      <th>Age</th>\n",
       "      <td>359392.0</td>\n",
       "      <td>3.533670e+01</td>\n",
       "      <td>12.594234</td>\n",
       "      <td>18.0</td>\n",
       "      <td>2.500000e+01</td>\n",
       "      <td>33.00</td>\n",
       "      <td>4.200000e+01</td>\n",
       "      <td>65.00</td>\n",
       "    </tr>\n",
       "    <tr>\n",
       "      <th>Income (USD/Month)</th>\n",
       "      <td>359392.0</td>\n",
       "      <td>1.504882e+04</td>\n",
       "      <td>7969.409482</td>\n",
       "      <td>2000.0</td>\n",
       "      <td>8.424000e+03</td>\n",
       "      <td>14685.00</td>\n",
       "      <td>2.103500e+04</td>\n",
       "      <td>35000.00</td>\n",
       "    </tr>\n",
       "  </tbody>\n",
       "</table>\n",
       "</div>"
      ],
      "text/plain": [
       "                       count          mean            std         min  \\\n",
       "Transaction ID      359392.0  1.022076e+07  126805.803715  10000011.0   \n",
       "Date of Travel      359392.0  4.296407e+04     307.467197     42371.0   \n",
       "KM Travelled        359392.0  2.256725e+01      12.233526         1.9   \n",
       "Price Charged       359392.0  4.234433e+02     274.378911        15.6   \n",
       "Cost of Trip        359392.0  2.861901e+02     157.993661        19.0   \n",
       "Customer ID         359392.0  1.919165e+04   21012.412463         1.0   \n",
       "Age                 359392.0  3.533670e+01      12.594234        18.0   \n",
       "Income (USD/Month)  359392.0  1.504882e+04    7969.409482      2000.0   \n",
       "\n",
       "                             25%          50%           75%          max  \n",
       "Transaction ID      1.011081e+07  10221035.50  1.033094e+07  10440107.00  \n",
       "Date of Travel      4.269700e+04     42988.00  4.323200e+04     43465.00  \n",
       "KM Travelled        1.200000e+01        22.44  3.296000e+01        48.00  \n",
       "Price Charged       2.064375e+02       386.36  5.836600e+02      2048.03  \n",
       "Cost of Trip        1.512000e+02       282.48  4.136832e+02       691.20  \n",
       "Customer ID         2.705000e+03      7459.00  3.607800e+04     60000.00  \n",
       "Age                 2.500000e+01        33.00  4.200000e+01        65.00  \n",
       "Income (USD/Month)  8.424000e+03     14685.00  2.103500e+04     35000.00  "
      ]
     },
     "execution_count": 4,
     "metadata": {},
     "output_type": "execute_result"
    }
   ],
   "source": [
    "# descriptive statistics for numeric features \n",
    "\n",
    "master_data.describe().transpose()"
   ]
  },
  {
   "cell_type": "code",
   "execution_count": 5,
   "id": "3167b351",
   "metadata": {},
   "outputs": [],
   "source": [
    "# drop unnecessary columns\n",
    "master_data.drop(['Transaction ID', 'Customer ID'], axis= 1, inplace= True)"
   ]
  },
  {
   "cell_type": "markdown",
   "id": "019f28d2",
   "metadata": {},
   "source": [
    "### Data Cleaning"
   ]
  },
  {
   "cell_type": "code",
   "execution_count": 6,
   "id": "b233a658",
   "metadata": {},
   "outputs": [],
   "source": [
    "# removing  space from column name \n",
    "\n",
    "master_data.columns= master_data.columns.str.replace(' ','_')\n",
    "\n",
    "# removing ',' from Population and Users column values\n",
    "\n",
    "for column in master_data[['Population', 'Users']]:\n",
    "    master_data[column]= master_data[column].str.replace(',','').astype('int')\n",
    "    "
   ]
  },
  {
   "cell_type": "code",
   "execution_count": 7,
   "id": "4a2b9fbf",
   "metadata": {},
   "outputs": [
    {
     "data": {
      "text/html": [
       "<div>\n",
       "<style scoped>\n",
       "    .dataframe tbody tr th:only-of-type {\n",
       "        vertical-align: middle;\n",
       "    }\n",
       "\n",
       "    .dataframe tbody tr th {\n",
       "        vertical-align: top;\n",
       "    }\n",
       "\n",
       "    .dataframe thead th {\n",
       "        text-align: right;\n",
       "    }\n",
       "</style>\n",
       "<table border=\"1\" class=\"dataframe\">\n",
       "  <thead>\n",
       "    <tr style=\"text-align: right;\">\n",
       "      <th></th>\n",
       "      <th>Date_of_Travel</th>\n",
       "      <th>Company</th>\n",
       "      <th>City</th>\n",
       "      <th>KM_Travelled</th>\n",
       "      <th>Price_Charged</th>\n",
       "      <th>Cost_of_Trip</th>\n",
       "      <th>Payment_Mode</th>\n",
       "      <th>Gender</th>\n",
       "      <th>Age</th>\n",
       "      <th>Income_(USD/Month)</th>\n",
       "      <th>Population</th>\n",
       "      <th>Users</th>\n",
       "    </tr>\n",
       "  </thead>\n",
       "  <tbody>\n",
       "    <tr>\n",
       "      <th>0</th>\n",
       "      <td>42377</td>\n",
       "      <td>Pink Cab</td>\n",
       "      <td>ATLANTA GA</td>\n",
       "      <td>30.45</td>\n",
       "      <td>370.95</td>\n",
       "      <td>313.6350</td>\n",
       "      <td>Card</td>\n",
       "      <td>Male</td>\n",
       "      <td>28</td>\n",
       "      <td>10813</td>\n",
       "      <td>814885</td>\n",
       "      <td>24701</td>\n",
       "    </tr>\n",
       "    <tr>\n",
       "      <th>1</th>\n",
       "      <td>43302</td>\n",
       "      <td>Yellow Cab</td>\n",
       "      <td>ATLANTA GA</td>\n",
       "      <td>26.19</td>\n",
       "      <td>598.70</td>\n",
       "      <td>317.4228</td>\n",
       "      <td>Cash</td>\n",
       "      <td>Male</td>\n",
       "      <td>28</td>\n",
       "      <td>10813</td>\n",
       "      <td>814885</td>\n",
       "      <td>24701</td>\n",
       "    </tr>\n",
       "    <tr>\n",
       "      <th>2</th>\n",
       "      <td>43427</td>\n",
       "      <td>Yellow Cab</td>\n",
       "      <td>ATLANTA GA</td>\n",
       "      <td>42.55</td>\n",
       "      <td>792.05</td>\n",
       "      <td>597.4020</td>\n",
       "      <td>Card</td>\n",
       "      <td>Male</td>\n",
       "      <td>28</td>\n",
       "      <td>10813</td>\n",
       "      <td>814885</td>\n",
       "      <td>24701</td>\n",
       "    </tr>\n",
       "  </tbody>\n",
       "</table>\n",
       "</div>"
      ],
      "text/plain": [
       "   Date_of_Travel     Company        City  KM_Travelled  Price_Charged  \\\n",
       "0           42377    Pink Cab  ATLANTA GA         30.45         370.95   \n",
       "1           43302  Yellow Cab  ATLANTA GA         26.19         598.70   \n",
       "2           43427  Yellow Cab  ATLANTA GA         42.55         792.05   \n",
       "\n",
       "   Cost_of_Trip Payment_Mode Gender  Age  Income_(USD/Month)  Population  \\\n",
       "0      313.6350         Card   Male   28               10813      814885   \n",
       "1      317.4228         Cash   Male   28               10813      814885   \n",
       "2      597.4020         Card   Male   28               10813      814885   \n",
       "\n",
       "   Users  \n",
       "0  24701  \n",
       "1  24701  \n",
       "2  24701  "
      ]
     },
     "execution_count": 7,
     "metadata": {},
     "output_type": "execute_result"
    }
   ],
   "source": [
    "master_data.head(3)"
   ]
  },
  {
   "cell_type": "code",
   "execution_count": 8,
   "id": "05f5e30f",
   "metadata": {},
   "outputs": [
    {
     "data": {
      "text/plain": [
       "Date_of_Travel        0\n",
       "Company               0\n",
       "City                  0\n",
       "KM_Travelled          0\n",
       "Price_Charged         0\n",
       "Cost_of_Trip          0\n",
       "Payment_Mode          0\n",
       "Gender                0\n",
       "Age                   0\n",
       "Income_(USD/Month)    0\n",
       "Population            0\n",
       "Users                 0\n",
       "dtype: int64"
      ]
     },
     "execution_count": 8,
     "metadata": {},
     "output_type": "execute_result"
    }
   ],
   "source": [
    "# Handle null/missing values\n",
    "\n",
    "master_data.isnull().sum()"
   ]
  },
  {
   "cell_type": "code",
   "execution_count": 9,
   "id": "24e3afad",
   "metadata": {},
   "outputs": [
    {
     "data": {
      "text/plain": [
       "0"
      ]
     },
     "execution_count": 9,
     "metadata": {},
     "output_type": "execute_result"
    }
   ],
   "source": [
    "# handling duplicates\n",
    "\n",
    "master_data.duplicated().sum()"
   ]
  },
  {
   "cell_type": "code",
   "execution_count": 10,
   "id": "0c22b911",
   "metadata": {},
   "outputs": [],
   "source": [
    "# Parsing dates\n",
    "\n",
    "def to_date_format(n):\n",
    "    date_str =(datetime(1899,12,30) + timedelta(n-1)).strftime(\"%d-%m-%Y\")\n",
    "    date_date =  datetime.strptime(date_str, \"%d-%m-%Y\")\n",
    "    return date_date\n",
    "\n",
    "master_data['Date_of_Travel']=master_data['Date_of_Travel'].apply(lambda x:to_date_format(x)) "
   ]
  },
  {
   "cell_type": "code",
   "execution_count": 11,
   "id": "38849e5c",
   "metadata": {},
   "outputs": [
    {
     "data": {
      "text/html": [
       "<div>\n",
       "<style scoped>\n",
       "    .dataframe tbody tr th:only-of-type {\n",
       "        vertical-align: middle;\n",
       "    }\n",
       "\n",
       "    .dataframe tbody tr th {\n",
       "        vertical-align: top;\n",
       "    }\n",
       "\n",
       "    .dataframe thead th {\n",
       "        text-align: right;\n",
       "    }\n",
       "</style>\n",
       "<table border=\"1\" class=\"dataframe\">\n",
       "  <thead>\n",
       "    <tr style=\"text-align: right;\">\n",
       "      <th></th>\n",
       "      <th>Date_of_Travel</th>\n",
       "      <th>Company</th>\n",
       "      <th>City</th>\n",
       "      <th>KM_Travelled</th>\n",
       "      <th>Price_Charged</th>\n",
       "      <th>Cost_of_Trip</th>\n",
       "      <th>Payment_Mode</th>\n",
       "      <th>Gender</th>\n",
       "      <th>Age</th>\n",
       "      <th>Income_(USD/Month)</th>\n",
       "      <th>Population</th>\n",
       "      <th>Users</th>\n",
       "    </tr>\n",
       "  </thead>\n",
       "  <tbody>\n",
       "    <tr>\n",
       "      <th>0</th>\n",
       "      <td>2016-01-07</td>\n",
       "      <td>Pink Cab</td>\n",
       "      <td>ATLANTA GA</td>\n",
       "      <td>30.45</td>\n",
       "      <td>370.95</td>\n",
       "      <td>313.6350</td>\n",
       "      <td>Card</td>\n",
       "      <td>Male</td>\n",
       "      <td>28</td>\n",
       "      <td>10813</td>\n",
       "      <td>814885</td>\n",
       "      <td>24701</td>\n",
       "    </tr>\n",
       "    <tr>\n",
       "      <th>1</th>\n",
       "      <td>2018-07-20</td>\n",
       "      <td>Yellow Cab</td>\n",
       "      <td>ATLANTA GA</td>\n",
       "      <td>26.19</td>\n",
       "      <td>598.70</td>\n",
       "      <td>317.4228</td>\n",
       "      <td>Cash</td>\n",
       "      <td>Male</td>\n",
       "      <td>28</td>\n",
       "      <td>10813</td>\n",
       "      <td>814885</td>\n",
       "      <td>24701</td>\n",
       "    </tr>\n",
       "    <tr>\n",
       "      <th>2</th>\n",
       "      <td>2018-11-22</td>\n",
       "      <td>Yellow Cab</td>\n",
       "      <td>ATLANTA GA</td>\n",
       "      <td>42.55</td>\n",
       "      <td>792.05</td>\n",
       "      <td>597.4020</td>\n",
       "      <td>Card</td>\n",
       "      <td>Male</td>\n",
       "      <td>28</td>\n",
       "      <td>10813</td>\n",
       "      <td>814885</td>\n",
       "      <td>24701</td>\n",
       "    </tr>\n",
       "    <tr>\n",
       "      <th>3</th>\n",
       "      <td>2016-01-05</td>\n",
       "      <td>Pink Cab</td>\n",
       "      <td>ATLANTA GA</td>\n",
       "      <td>28.62</td>\n",
       "      <td>358.52</td>\n",
       "      <td>334.8540</td>\n",
       "      <td>Card</td>\n",
       "      <td>Male</td>\n",
       "      <td>27</td>\n",
       "      <td>9237</td>\n",
       "      <td>814885</td>\n",
       "      <td>24701</td>\n",
       "    </tr>\n",
       "    <tr>\n",
       "      <th>4</th>\n",
       "      <td>2018-04-20</td>\n",
       "      <td>Yellow Cab</td>\n",
       "      <td>ATLANTA GA</td>\n",
       "      <td>36.38</td>\n",
       "      <td>721.10</td>\n",
       "      <td>467.1192</td>\n",
       "      <td>Card</td>\n",
       "      <td>Male</td>\n",
       "      <td>27</td>\n",
       "      <td>9237</td>\n",
       "      <td>814885</td>\n",
       "      <td>24701</td>\n",
       "    </tr>\n",
       "  </tbody>\n",
       "</table>\n",
       "</div>"
      ],
      "text/plain": [
       "  Date_of_Travel     Company        City  KM_Travelled  Price_Charged  \\\n",
       "0     2016-01-07    Pink Cab  ATLANTA GA         30.45         370.95   \n",
       "1     2018-07-20  Yellow Cab  ATLANTA GA         26.19         598.70   \n",
       "2     2018-11-22  Yellow Cab  ATLANTA GA         42.55         792.05   \n",
       "3     2016-01-05    Pink Cab  ATLANTA GA         28.62         358.52   \n",
       "4     2018-04-20  Yellow Cab  ATLANTA GA         36.38         721.10   \n",
       "\n",
       "   Cost_of_Trip Payment_Mode Gender  Age  Income_(USD/Month)  Population  \\\n",
       "0      313.6350         Card   Male   28               10813      814885   \n",
       "1      317.4228         Cash   Male   28               10813      814885   \n",
       "2      597.4020         Card   Male   28               10813      814885   \n",
       "3      334.8540         Card   Male   27                9237      814885   \n",
       "4      467.1192         Card   Male   27                9237      814885   \n",
       "\n",
       "   Users  \n",
       "0  24701  \n",
       "1  24701  \n",
       "2  24701  \n",
       "3  24701  \n",
       "4  24701  "
      ]
     },
     "execution_count": 11,
     "metadata": {},
     "output_type": "execute_result"
    }
   ],
   "source": [
    "master_data.head()"
   ]
  },
  {
   "cell_type": "markdown",
   "id": "3a0fe28b",
   "metadata": {},
   "source": [
    "### Features Engineering"
   ]
  },
  {
   "cell_type": "code",
   "execution_count": 12,
   "id": "73e3543d",
   "metadata": {},
   "outputs": [],
   "source": [
    "# Extracting the year, month and day features\n",
    "master_data['Year'] = master_data['Date_of_Travel'].dt.year\n",
    "master_data['Month']= master_data['Date_of_Travel'].dt.month\n",
    "master_data['Day']= master_data['Date_of_Travel'].dt.day"
   ]
  },
  {
   "cell_type": "code",
   "execution_count": 13,
   "id": "59239781",
   "metadata": {},
   "outputs": [],
   "source": [
    "# drop date of travel\n",
    "master_data.drop('Date_of_Travel', axis= 1, inplace= True)"
   ]
  },
  {
   "cell_type": "markdown",
   "id": "a30e52da",
   "metadata": {},
   "source": [
    "### Features Transformation"
   ]
  },
  {
   "cell_type": "code",
   "execution_count": 14,
   "id": "57ff44ea",
   "metadata": {},
   "outputs": [
    {
     "data": {
      "text/plain": [
       "Index(['KM_Travelled', 'Price_Charged', 'Cost_of_Trip', 'Age',\n",
       "       'Income_(USD/Month)', 'Population', 'Users', 'Year', 'Month', 'Day'],\n",
       "      dtype='object')"
      ]
     },
     "execution_count": 14,
     "metadata": {},
     "output_type": "execute_result"
    }
   ],
   "source": [
    "# select numeric features\n",
    "numeric_columns= master_data.select_dtypes(np.number).columns\n",
    "numeric_columns"
   ]
  },
  {
   "cell_type": "code",
   "execution_count": 15,
   "id": "693b90c8",
   "metadata": {},
   "outputs": [
    {
     "data": {
      "text/html": [
       "<div>\n",
       "<style scoped>\n",
       "    .dataframe tbody tr th:only-of-type {\n",
       "        vertical-align: middle;\n",
       "    }\n",
       "\n",
       "    .dataframe tbody tr th {\n",
       "        vertical-align: top;\n",
       "    }\n",
       "\n",
       "    .dataframe thead th {\n",
       "        text-align: right;\n",
       "    }\n",
       "</style>\n",
       "<table border=\"1\" class=\"dataframe\">\n",
       "  <thead>\n",
       "    <tr style=\"text-align: right;\">\n",
       "      <th></th>\n",
       "      <th>skew_value</th>\n",
       "    </tr>\n",
       "  </thead>\n",
       "  <tbody>\n",
       "    <tr>\n",
       "      <th>KM_Travelled</th>\n",
       "      <td>0.055779</td>\n",
       "    </tr>\n",
       "    <tr>\n",
       "      <th>Price_Charged</th>\n",
       "      <td>0.873761</td>\n",
       "    </tr>\n",
       "    <tr>\n",
       "      <th>Cost_of_Trip</th>\n",
       "      <td>0.137958</td>\n",
       "    </tr>\n",
       "    <tr>\n",
       "      <th>Age</th>\n",
       "      <td>0.685339</td>\n",
       "    </tr>\n",
       "    <tr>\n",
       "      <th>Income_(USD/Month)</th>\n",
       "      <td>0.309562</td>\n",
       "    </tr>\n",
       "    <tr>\n",
       "      <th>Population</th>\n",
       "      <td>0.905621</td>\n",
       "    </tr>\n",
       "    <tr>\n",
       "      <th>Users</th>\n",
       "      <td>0.269568</td>\n",
       "    </tr>\n",
       "    <tr>\n",
       "      <th>Year</th>\n",
       "      <td>-0.075208</td>\n",
       "    </tr>\n",
       "    <tr>\n",
       "      <th>Month</th>\n",
       "      <td>-0.401624</td>\n",
       "    </tr>\n",
       "    <tr>\n",
       "      <th>Day</th>\n",
       "      <td>0.022325</td>\n",
       "    </tr>\n",
       "  </tbody>\n",
       "</table>\n",
       "</div>"
      ],
      "text/plain": [
       "                    skew_value\n",
       "KM_Travelled          0.055779\n",
       "Price_Charged         0.873761\n",
       "Cost_of_Trip          0.137958\n",
       "Age                   0.685339\n",
       "Income_(USD/Month)    0.309562\n",
       "Population            0.905621\n",
       "Users                 0.269568\n",
       "Year                 -0.075208\n",
       "Month                -0.401624\n",
       "Day                   0.022325"
      ]
     },
     "execution_count": 15,
     "metadata": {},
     "output_type": "execute_result"
    }
   ],
   "source": [
    "# measuring skewness for numeric features\n",
    "\n",
    "skew_value= []\n",
    "\n",
    "for column in numeric_columns:\n",
    "    skew_value.append(master_data[column].skew())\n",
    "    \n",
    "pd.DataFrame(index= numeric_columns, data= skew_value, columns= ['skew_value'])"
   ]
  },
  {
   "cell_type": "markdown",
   "id": "f898f43a",
   "metadata": {},
   "source": [
    "- all of the features are positively skewed(skewness > 0) because more weights are on the left side of the distribution."
   ]
  },
  {
   "cell_type": "code",
   "execution_count": 16,
   "id": "c3f255be",
   "metadata": {},
   "outputs": [
    {
     "data": {
      "image/png": "[encoded data removed]",
      "text/plain": [
       "<Figure size 864x432 with 8 Axes>"
      ]
     },
     "metadata": {
      "needs_background": "light"
     },
     "output_type": "display_data"
    }
   ],
   "source": [
    "fig, axes= plt.subplots(2,4, figsize= (12,6))\n",
    "\n",
    "sns.histplot(master_data['KM_Travelled'], color= 'blue' , ax= axes[0,0], palette='bright', kde= True )\n",
    "sns.histplot(master_data['Cost_of_Trip'], color= 'blue' , ax= axes[0,1], palette='bright', kde= True )\n",
    "sns.histplot(master_data['Age'], color= 'blue' , ax= axes[0,2], palette='bright', kde= True )\n",
    "sns.histplot(master_data['Income_(USD/Month)'], color= 'blue' , ax= axes[0,3], palette='bright', kde= True )\n",
    "sns.histplot(master_data['Population'], color= 'blue' , ax= axes[1,0], palette='bright', kde= True )\n",
    "sns.histplot(master_data['Users'], color= 'blue' , ax= axes[1,1], palette='bright', kde= True )\n",
    "sns.histplot(master_data['Year'], color= 'blue' , ax= axes[1,2], palette='bright', kde= True )\n",
    "sns.histplot(master_data['Day'], color= 'blue' , ax= axes[1,3], palette='bright', kde= True )\n",
    "\n",
    "plt.tight_layout()"
   ]
  },
  {
   "cell_type": "code",
   "execution_count": 17,
   "id": "cfc34428",
   "metadata": {},
   "outputs": [],
   "source": [
    "# transforming positively skewed features\n",
    "numeric_columns= ['KM_Travelled', 'Cost_of_Trip', 'Age','Income_(USD/Month)', \n",
    "                  'Population', 'Users', 'Year',  'Day']\n",
    "\n",
    "for column in numeric_columns:\n",
    "    \n",
    "    master_data[column]= np.log1p(master_data[column])\n",
    "    "
   ]
  },
  {
   "cell_type": "code",
   "execution_count": 18,
   "id": "e520963f",
   "metadata": {},
   "outputs": [
    {
     "data": {
      "text/html": [
       "<div>\n",
       "<style scoped>\n",
       "    .dataframe tbody tr th:only-of-type {\n",
       "        vertical-align: middle;\n",
       "    }\n",
       "\n",
       "    .dataframe tbody tr th {\n",
       "        vertical-align: top;\n",
       "    }\n",
       "\n",
       "    .dataframe thead th {\n",
       "        text-align: right;\n",
       "    }\n",
       "</style>\n",
       "<table border=\"1\" class=\"dataframe\">\n",
       "  <thead>\n",
       "    <tr style=\"text-align: right;\">\n",
       "      <th></th>\n",
       "      <th>KM_Travelled</th>\n",
       "      <th>Price_Charged</th>\n",
       "      <th>Cost_of_Trip</th>\n",
       "      <th>Age</th>\n",
       "      <th>Income_(USD/Month)</th>\n",
       "      <th>Population</th>\n",
       "      <th>Users</th>\n",
       "      <th>Year</th>\n",
       "      <th>Month</th>\n",
       "      <th>Day</th>\n",
       "    </tr>\n",
       "  </thead>\n",
       "  <tbody>\n",
       "    <tr>\n",
       "      <th>0</th>\n",
       "      <td>3.448399</td>\n",
       "      <td>370.95</td>\n",
       "      <td>5.751413</td>\n",
       "      <td>3.367296</td>\n",
       "      <td>9.288597</td>\n",
       "      <td>13.610804</td>\n",
       "      <td>10.114639</td>\n",
       "      <td>7.609367</td>\n",
       "      <td>1</td>\n",
       "      <td>2.079442</td>\n",
       "    </tr>\n",
       "    <tr>\n",
       "      <th>1</th>\n",
       "      <td>3.302849</td>\n",
       "      <td>598.70</td>\n",
       "      <td>5.763380</td>\n",
       "      <td>3.367296</td>\n",
       "      <td>9.288597</td>\n",
       "      <td>13.610804</td>\n",
       "      <td>10.114639</td>\n",
       "      <td>7.610358</td>\n",
       "      <td>7</td>\n",
       "      <td>3.044522</td>\n",
       "    </tr>\n",
       "    <tr>\n",
       "      <th>2</th>\n",
       "      <td>3.773910</td>\n",
       "      <td>792.05</td>\n",
       "      <td>6.394263</td>\n",
       "      <td>3.367296</td>\n",
       "      <td>9.288597</td>\n",
       "      <td>13.610804</td>\n",
       "      <td>10.114639</td>\n",
       "      <td>7.610358</td>\n",
       "      <td>11</td>\n",
       "      <td>3.135494</td>\n",
       "    </tr>\n",
       "    <tr>\n",
       "      <th>3</th>\n",
       "      <td>3.388450</td>\n",
       "      <td>358.52</td>\n",
       "      <td>5.816677</td>\n",
       "      <td>3.332205</td>\n",
       "      <td>9.131081</td>\n",
       "      <td>13.610804</td>\n",
       "      <td>10.114639</td>\n",
       "      <td>7.609367</td>\n",
       "      <td>1</td>\n",
       "      <td>1.791759</td>\n",
       "    </tr>\n",
       "    <tr>\n",
       "      <th>4</th>\n",
       "      <td>3.621136</td>\n",
       "      <td>721.10</td>\n",
       "      <td>6.148723</td>\n",
       "      <td>3.332205</td>\n",
       "      <td>9.131081</td>\n",
       "      <td>13.610804</td>\n",
       "      <td>10.114639</td>\n",
       "      <td>7.610358</td>\n",
       "      <td>4</td>\n",
       "      <td>3.044522</td>\n",
       "    </tr>\n",
       "  </tbody>\n",
       "</table>\n",
       "</div>"
      ],
      "text/plain": [
       "   KM_Travelled  Price_Charged  Cost_of_Trip       Age  Income_(USD/Month)  \\\n",
       "0      3.448399         370.95      5.751413  3.367296            9.288597   \n",
       "1      3.302849         598.70      5.763380  3.367296            9.288597   \n",
       "2      3.773910         792.05      6.394263  3.367296            9.288597   \n",
       "3      3.388450         358.52      5.816677  3.332205            9.131081   \n",
       "4      3.621136         721.10      6.148723  3.332205            9.131081   \n",
       "\n",
       "   Population      Users      Year  Month       Day  \n",
       "0   13.610804  10.114639  7.609367      1  2.079442  \n",
       "1   13.610804  10.114639  7.610358      7  3.044522  \n",
       "2   13.610804  10.114639  7.610358     11  3.135494  \n",
       "3   13.610804  10.114639  7.609367      1  1.791759  \n",
       "4   13.610804  10.114639  7.610358      4  3.044522  "
      ]
     },
     "execution_count": 18,
     "metadata": {},
     "output_type": "execute_result"
    }
   ],
   "source": [
    "master_data.select_dtypes(np.number).head()"
   ]
  },
  {
   "cell_type": "code",
   "execution_count": 19,
   "id": "a23e3c2f",
   "metadata": {},
   "outputs": [
    {
     "data": {
      "image/png": "[encoded data removed]",
      "text/plain": [
       "<Figure size 864x432 with 8 Axes>"
      ]
     },
     "metadata": {
      "needs_background": "light"
     },
     "output_type": "display_data"
    }
   ],
   "source": [
    "# check distribution of transformed features\n",
    "fig, axes= plt.subplots(2,4, figsize= (12,6))\n",
    "\n",
    "sns.histplot(master_data['KM_Travelled'], color= 'blue' , ax= axes[0,0], palette='bright', kde= True )\n",
    "sns.histplot(master_data['Cost_of_Trip'], color= 'blue' , ax= axes[0,1], palette='bright', kde= True )\n",
    "sns.histplot(master_data['Age'], color= 'blue' , ax= axes[0,2], palette='bright', kde= True )\n",
    "sns.histplot(master_data['Income_(USD/Month)'], color= 'blue' , ax= axes[0,3], palette='bright', kde= True )\n",
    "sns.histplot(master_data['Population'], color= 'blue' , ax= axes[1,0], palette='bright', kde= True )\n",
    "sns.histplot(master_data['Users'], color= 'blue' , ax= axes[1,1], palette='bright', kde= True )\n",
    "sns.histplot(master_data['Year'], color= 'blue' , ax= axes[1,2], palette='bright', kde= True )\n",
    "sns.histplot(master_data['Day'], color= 'blue' , ax= axes[1,3], palette='bright', kde= True )\n",
    "\n",
    "plt.tight_layout()"
   ]
  },
  {
   "cell_type": "code",
   "execution_count": 20,
   "id": "e96f0970",
   "metadata": {},
   "outputs": [],
   "source": [
    "# transforming month column\n",
    "master_data['Month']= -np.cos(0.5236* master_data['Month'])"
   ]
  },
  {
   "cell_type": "code",
   "execution_count": 21,
   "id": "a601d54d",
   "metadata": {},
   "outputs": [
    {
     "data": {
      "image/png": "[encoded data removed]",
      "text/plain": [
       "<Figure size 864x432 with 1 Axes>"
      ]
     },
     "metadata": {
      "needs_background": "light"
     },
     "output_type": "display_data"
    }
   ],
   "source": [
    "# distribution of month after transformation\n",
    "plt.figure(figsize=(12,6))\n",
    "sns.histplot(data= master_data, x= 'Month', color= 'Green', kde= True, palette= 'bright');"
   ]
  },
  {
   "cell_type": "code",
   "execution_count": 22,
   "id": "047c2116",
   "metadata": {},
   "outputs": [
    {
     "data": {
      "text/plain": [
       "count    359392.000000\n",
       "mean        423.443311\n",
       "std         274.378911\n",
       "min          15.600000\n",
       "25%         206.437500\n",
       "50%         386.360000\n",
       "75%         583.660000\n",
       "max        2048.030000\n",
       "Name: Price_Charged, dtype: float64"
      ]
     },
     "execution_count": 22,
     "metadata": {},
     "output_type": "execute_result"
    }
   ],
   "source": [
    "# descriptive statistics of the target variable i.e. 'Price_ charged'\n",
    "\n",
    "master_data['Price_Charged'].describe().T"
   ]
  },
  {
   "cell_type": "code",
   "execution_count": 23,
   "id": "5dbb25b6",
   "metadata": {},
   "outputs": [],
   "source": [
    "# transform the target variable \n",
    "\n",
    "master_data['Price_Charged']= np.log1p(master_data['Price_Charged'])\n"
   ]
  },
  {
   "cell_type": "code",
   "execution_count": 24,
   "id": "8271e4d5",
   "metadata": {},
   "outputs": [
    {
     "data": {
      "image/png": "[encoded data removed]",
      "text/plain": [
       "<Figure size 720x432 with 1 Axes>"
      ]
     },
     "metadata": {
      "needs_background": "light"
     },
     "output_type": "display_data"
    }
   ],
   "source": [
    "# distribution of target variable after transformation\n",
    "\n",
    "plt.figure(figsize=(10,6))\n",
    "sns.histplot(data= master_data, x= 'Price_Charged', color= 'red', kde= True, palette= 'bright');"
   ]
  },
  {
   "cell_type": "markdown",
   "id": "c50b32ae",
   "metadata": {},
   "source": [
    "### Feature Selection"
   ]
  },
  {
   "cell_type": "code",
   "execution_count": 25,
   "id": "b796f1f9",
   "metadata": {},
   "outputs": [
    {
     "data": {
      "text/plain": [
       "KM_Travelled          0.929757\n",
       "Price_Charged         1.000000\n",
       "Cost_of_Trip          0.942869\n",
       "Age                  -0.002404\n",
       "Income_(USD/Month)    0.002390\n",
       "Population            0.208115\n",
       "Users                 0.138402\n",
       "Year                 -0.026551\n",
       "Month                -0.001855\n",
       "Day                  -0.004073\n",
       "Name: Price_Charged, dtype: float64"
      ]
     },
     "execution_count": 25,
     "metadata": {},
     "output_type": "execute_result"
    }
   ],
   "source": [
    "# feature selection with correlation\n",
    "\n",
    "master_data.corr() ['Price_Charged'] "
   ]
  },
  {
   "cell_type": "code",
   "execution_count": 26,
   "id": "306ab570",
   "metadata": {},
   "outputs": [
    {
     "data": {
      "image/png": "[encoded data removed]",
      "text/plain": [
       "<Figure size 1296x576 with 2 Axes>"
      ]
     },
     "metadata": {
      "needs_background": "light"
     },
     "output_type": "display_data"
    }
   ],
   "source": [
    "plt.figure(figsize= (18,8))\n",
    "sns.heatmap(master_data.corr(), annot= True);"
   ]
  },
  {
   "cell_type": "markdown",
   "id": "d7dafec3",
   "metadata": {},
   "source": [
    "#### Correlation between Variables\n",
    "\n",
    "- There is high correlation between some of the features. These are:\n",
    "    \n",
    "    - 'KM_Travelled' and 'Price_Charged'\n",
    "    - 'KM_Travelled' and 'Cost_of_Trip'\n",
    "    - 'Price_charged' and 'Cost_of_Trip'\n",
    "    \n",
    "- therefore, I decided to drop 'KM_Travelled'"
   ]
  },
  {
   "cell_type": "code",
   "execution_count": 27,
   "id": "91a32d00",
   "metadata": {},
   "outputs": [],
   "source": [
    "# droping 'KM_Travelled'\n",
    "\n",
    "master_data['KM_Travelled']= master_data.drop('KM_Travelled', axis=1, inplace= True)"
   ]
  },
  {
   "cell_type": "markdown",
   "id": "591d51e4",
   "metadata": {},
   "source": [
    "### One-Hot Encoding"
   ]
  },
  {
   "cell_type": "code",
   "execution_count": 28,
   "id": "1f6769ce",
   "metadata": {},
   "outputs": [
    {
     "data": {
      "text/html": [
       "<div>\n",
       "<style scoped>\n",
       "    .dataframe tbody tr th:only-of-type {\n",
       "        vertical-align: middle;\n",
       "    }\n",
       "\n",
       "    .dataframe tbody tr th {\n",
       "        vertical-align: top;\n",
       "    }\n",
       "\n",
       "    .dataframe thead th {\n",
       "        text-align: right;\n",
       "    }\n",
       "</style>\n",
       "<table border=\"1\" class=\"dataframe\">\n",
       "  <thead>\n",
       "    <tr style=\"text-align: right;\">\n",
       "      <th></th>\n",
       "      <th>Price_Charged</th>\n",
       "      <th>Cost_of_Trip</th>\n",
       "      <th>Age</th>\n",
       "      <th>Income_(USD/Month)</th>\n",
       "      <th>Population</th>\n",
       "      <th>Users</th>\n",
       "      <th>Year</th>\n",
       "      <th>Month</th>\n",
       "      <th>Day</th>\n",
       "      <th>Company_Yellow Cab</th>\n",
       "      <th>City_AUSTIN TX</th>\n",
       "      <th>City_BOSTON MA</th>\n",
       "      <th>City_CHICAGO IL</th>\n",
       "      <th>City_DALLAS TX</th>\n",
       "      <th>City_DENVER CO</th>\n",
       "      <th>City_LOS ANGELES CA</th>\n",
       "      <th>City_MIAMI FL</th>\n",
       "      <th>City_NASHVILLE TN</th>\n",
       "      <th>City_NEW YORK NY</th>\n",
       "      <th>City_ORANGE COUNTY</th>\n",
       "      <th>City_PHOENIX AZ</th>\n",
       "      <th>City_PITTSBURGH PA</th>\n",
       "      <th>City_SACRAMENTO CA</th>\n",
       "      <th>City_SAN DIEGO CA</th>\n",
       "      <th>City_SEATTLE WA</th>\n",
       "      <th>City_SILICON VALLEY</th>\n",
       "      <th>City_TUCSON AZ</th>\n",
       "      <th>City_WASHINGTON DC</th>\n",
       "      <th>Payment_Mode_Cash</th>\n",
       "      <th>Gender_Male</th>\n",
       "    </tr>\n",
       "  </thead>\n",
       "  <tbody>\n",
       "    <tr>\n",
       "      <th>0</th>\n",
       "      <td>5.918759</td>\n",
       "      <td>5.751413</td>\n",
       "      <td>3.367296</td>\n",
       "      <td>9.288597</td>\n",
       "      <td>13.610804</td>\n",
       "      <td>10.114639</td>\n",
       "      <td>7.609367</td>\n",
       "      <td>-0.866025</td>\n",
       "      <td>2.079442</td>\n",
       "      <td>0</td>\n",
       "      <td>0</td>\n",
       "      <td>0</td>\n",
       "      <td>0</td>\n",
       "      <td>0</td>\n",
       "      <td>0</td>\n",
       "      <td>0</td>\n",
       "      <td>0</td>\n",
       "      <td>0</td>\n",
       "      <td>0</td>\n",
       "      <td>0</td>\n",
       "      <td>0</td>\n",
       "      <td>0</td>\n",
       "      <td>0</td>\n",
       "      <td>0</td>\n",
       "      <td>0</td>\n",
       "      <td>0</td>\n",
       "      <td>0</td>\n",
       "      <td>0</td>\n",
       "      <td>0</td>\n",
       "      <td>1</td>\n",
       "    </tr>\n",
       "    <tr>\n",
       "      <th>1</th>\n",
       "      <td>6.396430</td>\n",
       "      <td>5.763380</td>\n",
       "      <td>3.367296</td>\n",
       "      <td>9.288597</td>\n",
       "      <td>13.610804</td>\n",
       "      <td>10.114639</td>\n",
       "      <td>7.610358</td>\n",
       "      <td>0.866021</td>\n",
       "      <td>3.044522</td>\n",
       "      <td>1</td>\n",
       "      <td>0</td>\n",
       "      <td>0</td>\n",
       "      <td>0</td>\n",
       "      <td>0</td>\n",
       "      <td>0</td>\n",
       "      <td>0</td>\n",
       "      <td>0</td>\n",
       "      <td>0</td>\n",
       "      <td>0</td>\n",
       "      <td>0</td>\n",
       "      <td>0</td>\n",
       "      <td>0</td>\n",
       "      <td>0</td>\n",
       "      <td>0</td>\n",
       "      <td>0</td>\n",
       "      <td>0</td>\n",
       "      <td>0</td>\n",
       "      <td>0</td>\n",
       "      <td>1</td>\n",
       "      <td>1</td>\n",
       "    </tr>\n",
       "    <tr>\n",
       "      <th>2</th>\n",
       "      <td>6.675886</td>\n",
       "      <td>6.394263</td>\n",
       "      <td>3.367296</td>\n",
       "      <td>9.288597</td>\n",
       "      <td>13.610804</td>\n",
       "      <td>10.114639</td>\n",
       "      <td>7.610358</td>\n",
       "      <td>-0.866032</td>\n",
       "      <td>3.135494</td>\n",
       "      <td>1</td>\n",
       "      <td>0</td>\n",
       "      <td>0</td>\n",
       "      <td>0</td>\n",
       "      <td>0</td>\n",
       "      <td>0</td>\n",
       "      <td>0</td>\n",
       "      <td>0</td>\n",
       "      <td>0</td>\n",
       "      <td>0</td>\n",
       "      <td>0</td>\n",
       "      <td>0</td>\n",
       "      <td>0</td>\n",
       "      <td>0</td>\n",
       "      <td>0</td>\n",
       "      <td>0</td>\n",
       "      <td>0</td>\n",
       "      <td>0</td>\n",
       "      <td>0</td>\n",
       "      <td>0</td>\n",
       "      <td>1</td>\n",
       "    </tr>\n",
       "    <tr>\n",
       "      <th>3</th>\n",
       "      <td>5.884770</td>\n",
       "      <td>5.816677</td>\n",
       "      <td>3.332205</td>\n",
       "      <td>9.131081</td>\n",
       "      <td>13.610804</td>\n",
       "      <td>10.114639</td>\n",
       "      <td>7.609367</td>\n",
       "      <td>-0.866025</td>\n",
       "      <td>1.791759</td>\n",
       "      <td>0</td>\n",
       "      <td>0</td>\n",
       "      <td>0</td>\n",
       "      <td>0</td>\n",
       "      <td>0</td>\n",
       "      <td>0</td>\n",
       "      <td>0</td>\n",
       "      <td>0</td>\n",
       "      <td>0</td>\n",
       "      <td>0</td>\n",
       "      <td>0</td>\n",
       "      <td>0</td>\n",
       "      <td>0</td>\n",
       "      <td>0</td>\n",
       "      <td>0</td>\n",
       "      <td>0</td>\n",
       "      <td>0</td>\n",
       "      <td>0</td>\n",
       "      <td>0</td>\n",
       "      <td>0</td>\n",
       "      <td>1</td>\n",
       "    </tr>\n",
       "    <tr>\n",
       "      <th>4</th>\n",
       "      <td>6.582164</td>\n",
       "      <td>6.148723</td>\n",
       "      <td>3.332205</td>\n",
       "      <td>9.131081</td>\n",
       "      <td>13.610804</td>\n",
       "      <td>10.114639</td>\n",
       "      <td>7.610358</td>\n",
       "      <td>0.500004</td>\n",
       "      <td>3.044522</td>\n",
       "      <td>1</td>\n",
       "      <td>0</td>\n",
       "      <td>0</td>\n",
       "      <td>0</td>\n",
       "      <td>0</td>\n",
       "      <td>0</td>\n",
       "      <td>0</td>\n",
       "      <td>0</td>\n",
       "      <td>0</td>\n",
       "      <td>0</td>\n",
       "      <td>0</td>\n",
       "      <td>0</td>\n",
       "      <td>0</td>\n",
       "      <td>0</td>\n",
       "      <td>0</td>\n",
       "      <td>0</td>\n",
       "      <td>0</td>\n",
       "      <td>0</td>\n",
       "      <td>0</td>\n",
       "      <td>0</td>\n",
       "      <td>1</td>\n",
       "    </tr>\n",
       "  </tbody>\n",
       "</table>\n",
       "</div>"
      ],
      "text/plain": [
       "   Price_Charged  Cost_of_Trip       Age  Income_(USD/Month)  Population  \\\n",
       "0       5.918759      5.751413  3.367296            9.288597   13.610804   \n",
       "1       6.396430      5.763380  3.367296            9.288597   13.610804   \n",
       "2       6.675886      6.394263  3.367296            9.288597   13.610804   \n",
       "3       5.884770      5.816677  3.332205            9.131081   13.610804   \n",
       "4       6.582164      6.148723  3.332205            9.131081   13.610804   \n",
       "\n",
       "       Users      Year     Month       Day  Company_Yellow Cab  \\\n",
       "0  10.114639  7.609367 -0.866025  2.079442                   0   \n",
       "1  10.114639  7.610358  0.866021  3.044522                   1   \n",
       "2  10.114639  7.610358 -0.866032  3.135494                   1   \n",
       "3  10.114639  7.609367 -0.866025  1.791759                   0   \n",
       "4  10.114639  7.610358  0.500004  3.044522                   1   \n",
       "\n",
       "   City_AUSTIN TX  City_BOSTON MA  City_CHICAGO IL  City_DALLAS TX  \\\n",
       "0               0               0                0               0   \n",
       "1               0               0                0               0   \n",
       "2               0               0                0               0   \n",
       "3               0               0                0               0   \n",
       "4               0               0                0               0   \n",
       "\n",
       "   City_DENVER CO  City_LOS ANGELES CA  City_MIAMI FL  City_NASHVILLE TN  \\\n",
       "0               0                    0              0                  0   \n",
       "1               0                    0              0                  0   \n",
       "2               0                    0              0                  0   \n",
       "3               0                    0              0                  0   \n",
       "4               0                    0              0                  0   \n",
       "\n",
       "   City_NEW YORK NY  City_ORANGE COUNTY  City_PHOENIX AZ  City_PITTSBURGH PA  \\\n",
       "0                 0                   0                0                   0   \n",
       "1                 0                   0                0                   0   \n",
       "2                 0                   0                0                   0   \n",
       "3                 0                   0                0                   0   \n",
       "4                 0                   0                0                   0   \n",
       "\n",
       "   City_SACRAMENTO CA  City_SAN DIEGO CA  City_SEATTLE WA  \\\n",
       "0                   0                  0                0   \n",
       "1                   0                  0                0   \n",
       "2                   0                  0                0   \n",
       "3                   0                  0                0   \n",
       "4                   0                  0                0   \n",
       "\n",
       "   City_SILICON VALLEY  City_TUCSON AZ  City_WASHINGTON DC  Payment_Mode_Cash  \\\n",
       "0                    0               0                   0                  0   \n",
       "1                    0               0                   0                  1   \n",
       "2                    0               0                   0                  0   \n",
       "3                    0               0                   0                  0   \n",
       "4                    0               0                   0                  0   \n",
       "\n",
       "   Gender_Male  \n",
       "0            1  \n",
       "1            1  \n",
       "2            1  \n",
       "3            1  \n",
       "4            1  "
      ]
     },
     "execution_count": 28,
     "metadata": {},
     "output_type": "execute_result"
    }
   ],
   "source": [
    "# Encoding catagorical features\n",
    "master_data= pd.get_dummies(master_data, drop_first= True)\n",
    "master_data.head()"
   ]
  },
  {
   "cell_type": "code",
   "execution_count": 29,
   "id": "e44ea140",
   "metadata": {},
   "outputs": [
    {
     "name": "stdout",
     "output_type": "stream",
     "text": [
      "<class 'pandas.core.frame.DataFrame'>\n",
      "Int64Index: 359392 entries, 0 to 359391\n",
      "Data columns (total 30 columns):\n",
      " #   Column               Non-Null Count   Dtype  \n",
      "---  ------               --------------   -----  \n",
      " 0   Price_Charged        359392 non-null  float64\n",
      " 1   Cost_of_Trip         359392 non-null  float64\n",
      " 2   Age                  359392 non-null  float64\n",
      " 3   Income_(USD/Month)   359392 non-null  float64\n",
      " 4   Population           359392 non-null  float64\n",
      " 5   Users                359392 non-null  float64\n",
      " 6   Year                 359392 non-null  float64\n",
      " 7   Month                359392 non-null  float64\n",
      " 8   Day                  359392 non-null  float64\n",
      " 9   Company_Yellow Cab   359392 non-null  uint8  \n",
      " 10  City_AUSTIN TX       359392 non-null  uint8  \n",
      " 11  City_BOSTON MA       359392 non-null  uint8  \n",
      " 12  City_CHICAGO IL      359392 non-null  uint8  \n",
      " 13  City_DALLAS TX       359392 non-null  uint8  \n",
      " 14  City_DENVER CO       359392 non-null  uint8  \n",
      " 15  City_LOS ANGELES CA  359392 non-null  uint8  \n",
      " 16  City_MIAMI FL        359392 non-null  uint8  \n",
      " 17  City_NASHVILLE TN    359392 non-null  uint8  \n",
      " 18  City_NEW YORK NY     359392 non-null  uint8  \n",
      " 19  City_ORANGE COUNTY   359392 non-null  uint8  \n",
      " 20  City_PHOENIX AZ      359392 non-null  uint8  \n",
      " 21  City_PITTSBURGH PA   359392 non-null  uint8  \n",
      " 22  City_SACRAMENTO CA   359392 non-null  uint8  \n",
      " 23  City_SAN DIEGO CA    359392 non-null  uint8  \n",
      " 24  City_SEATTLE WA      359392 non-null  uint8  \n",
      " 25  City_SILICON VALLEY  359392 non-null  uint8  \n",
      " 26  City_TUCSON AZ       359392 non-null  uint8  \n",
      " 27  City_WASHINGTON DC   359392 non-null  uint8  \n",
      " 28  Payment_Mode_Cash    359392 non-null  uint8  \n",
      " 29  Gender_Male          359392 non-null  uint8  \n",
      "dtypes: float64(9), uint8(21)\n",
      "memory usage: 34.6 MB\n"
     ]
    }
   ],
   "source": [
    "master_data.info()"
   ]
  },
  {
   "cell_type": "markdown",
   "id": "b7830d23",
   "metadata": {},
   "source": [
    "### Split the Dataset"
   ]
  },
  {
   "cell_type": "code",
   "execution_count": 30,
   "id": "036472d8",
   "metadata": {},
   "outputs": [],
   "source": [
    "# split the data set into predictor and target variable\n",
    "\n",
    "X= master_data.drop('Price_Charged', axis= 1)\n",
    "y= master_data['Price_Charged']"
   ]
  },
  {
   "cell_type": "code",
   "execution_count": 31,
   "id": "dc9ad508",
   "metadata": {},
   "outputs": [],
   "source": [
    "# train/test split\n",
    "\n",
    "X_train, X_test, y_train, y_test = train_test_split(X, y, test_size=0.3, random_state= 42)\n"
   ]
  },
  {
   "cell_type": "code",
   "execution_count": 32,
   "id": "7a69d3cf",
   "metadata": {},
   "outputs": [
    {
     "data": {
      "text/plain": [
       "((251574, 29), (251574,), (107818, 29), (107818,))"
      ]
     },
     "execution_count": 32,
     "metadata": {},
     "output_type": "execute_result"
    }
   ],
   "source": [
    "X_train.shape, y_train.shape, X_test.shape, y_test.shape  "
   ]
  },
  {
   "cell_type": "markdown",
   "id": "ed97b254",
   "metadata": {},
   "source": [
    "### Features Scaling"
   ]
  },
  {
   "cell_type": "code",
   "execution_count": 33,
   "id": "8795ceec",
   "metadata": {},
   "outputs": [],
   "source": [
    "scaler= StandardScaler()\n",
    "\n",
    "scaled_X_train= scaler.fit_transform(X_train)\n",
    "\n",
    "scaled_X_test = scaler.transform(X_test)"
   ]
  },
  {
   "cell_type": "code",
   "execution_count": 34,
   "id": "e70a5e36",
   "metadata": {},
   "outputs": [
    {
     "data": {
      "text/plain": [
       "array([ 5.43958782e+00,  3.53485363e+00,  9.43851386e+00,  1.43220987e+01,\n",
       "        1.16335223e+01,  7.60988283e+00, -1.00400265e-01,  2.60722803e+00,\n",
       "        7.64276118e-01,  1.38448329e-02,  8.21905284e-02,  1.57591802e-01,\n",
       "        1.95886697e-02,  1.06847289e-02,  1.34079833e-01,  1.79907304e-02,\n",
       "        8.24807015e-03,  2.77814878e-01,  1.12571251e-02,  5.90283575e-03])"
      ]
     },
     "execution_count": 34,
     "metadata": {},
     "output_type": "execute_result"
    }
   ],
   "source": [
    "scaler.mean_[:20]"
   ]
  },
  {
   "cell_type": "code",
   "execution_count": 35,
   "id": "93087da7",
   "metadata": {},
   "outputs": [
    {
     "data": {
      "text/plain": [
       "array([5.66616622e-01, 1.15056217e-01, 4.36176846e-01, 1.37782215e+00,\n",
       "       9.88568839e-01, 1.57572757e-07, 5.09838091e-01, 5.18938417e-01,\n",
       "       1.80158134e-01, 1.36531535e-02, 7.54352455e-02, 1.32756626e-01,\n",
       "       1.92049538e-02, 1.05705655e-02, 1.16102432e-01, 1.76670640e-02,\n",
       "       8.18003949e-03, 2.00633771e-01, 1.11304023e-02, 5.86799228e-03])"
      ]
     },
     "execution_count": 35,
     "metadata": {},
     "output_type": "execute_result"
    }
   ],
   "source": [
    "scaler.var_[:20]"
   ]
  },
  {
   "cell_type": "markdown",
   "id": "26dfcfb0",
   "metadata": {},
   "source": [
    "### Model Selection"
   ]
  },
  {
   "cell_type": "markdown",
   "id": "09d352e3",
   "metadata": {},
   "source": [
    "#### Linear Regression"
   ]
  },
  {
   "cell_type": "code",
   "execution_count": 36,
   "id": "9907faca",
   "metadata": {},
   "outputs": [
    {
     "data": {
      "text/plain": [
       "LinearRegression()"
      ]
     },
     "execution_count": 36,
     "metadata": {},
     "output_type": "execute_result"
    }
   ],
   "source": [
    "# Linear regression\n",
    "linear_model= LinearRegression()\n",
    "\n",
    "linear_model.fit(scaled_X_train, y_train)"
   ]
  },
  {
   "cell_type": "code",
   "execution_count": 37,
   "id": "235ef4a8",
   "metadata": {},
   "outputs": [],
   "source": [
    "y_pred= linear_model.predict(scaled_X_test)"
   ]
  },
  {
   "cell_type": "code",
   "execution_count": 38,
   "id": "268625a4",
   "metadata": {},
   "outputs": [
    {
     "data": {
      "text/plain": [
       "0.13846024556698114"
      ]
     },
     "execution_count": 38,
     "metadata": {},
     "output_type": "execute_result"
    }
   ],
   "source": [
    "# evaluate model performance\n",
    "mae= mean_absolute_error(y_test,y_pred)\n",
    "mae"
   ]
  },
  {
   "cell_type": "code",
   "execution_count": 39,
   "id": "78cf45e4",
   "metadata": {},
   "outputs": [
    {
     "data": {
      "text/plain": [
       "0.030544861511077694"
      ]
     },
     "execution_count": 39,
     "metadata": {},
     "output_type": "execute_result"
    }
   ],
   "source": [
    "# evaluate model performance\n",
    "mse= mean_squared_error(y_test, y_pred)\n",
    "mse"
   ]
  },
  {
   "cell_type": "code",
   "execution_count": 40,
   "id": "a99482f1",
   "metadata": {},
   "outputs": [
    {
     "data": {
      "text/plain": [
       "0.9529941083437189"
      ]
     },
     "execution_count": 40,
     "metadata": {},
     "output_type": "execute_result"
    }
   ],
   "source": [
    "# measure goodness of fit\n",
    "\n",
    "r_square= linear_model.score(scaled_X_train, y_train)\n",
    "r_square"
   ]
  },
  {
   "cell_type": "markdown",
   "id": "d095b34e",
   "metadata": {},
   "source": [
    "#### Ridge Regression"
   ]
  },
  {
   "cell_type": "code",
   "execution_count": 41,
   "id": "571ccc10",
   "metadata": {},
   "outputs": [
    {
     "data": {
      "text/plain": [
       "Ridge(alpha=10.0)"
      ]
     },
     "execution_count": 41,
     "metadata": {},
     "output_type": "execute_result"
    }
   ],
   "source": [
    "ridge_model= Ridge(alpha= 10.0)\n",
    "ridge_model.fit(scaled_X_train, y_train)"
   ]
  },
  {
   "cell_type": "code",
   "execution_count": 42,
   "id": "644fa75c",
   "metadata": {},
   "outputs": [],
   "source": [
    "y_pred= ridge_model.predict(scaled_X_test)"
   ]
  },
  {
   "cell_type": "code",
   "execution_count": 43,
   "id": "47ca9765",
   "metadata": {},
   "outputs": [
    {
     "data": {
      "text/plain": [
       "0.13846112631478924"
      ]
     },
     "execution_count": 43,
     "metadata": {},
     "output_type": "execute_result"
    }
   ],
   "source": [
    "# evaluate performance of the model\n",
    "mae= mean_absolute_error(y_test,y_pred)\n",
    "mae"
   ]
  },
  {
   "cell_type": "code",
   "execution_count": 44,
   "id": "a8296edf",
   "metadata": {},
   "outputs": [
    {
     "data": {
      "text/plain": [
       "0.030544346059260232"
      ]
     },
     "execution_count": 44,
     "metadata": {},
     "output_type": "execute_result"
    }
   ],
   "source": [
    "# evaluate performance of the model\n",
    "mse= mean_squared_error(y_test, y_pred)\n",
    "mse"
   ]
  },
  {
   "cell_type": "code",
   "execution_count": 45,
   "id": "7e0c9d1b",
   "metadata": {},
   "outputs": [
    {
     "data": {
      "text/plain": [
       "0.9528349711945343"
      ]
     },
     "execution_count": 45,
     "metadata": {},
     "output_type": "execute_result"
    }
   ],
   "source": [
    "# measure goodness of fit\n",
    "\n",
    "r_2= r2_score(y_test, y_pred)\n",
    "r_2"
   ]
  },
  {
   "cell_type": "markdown",
   "id": "e1c841a6",
   "metadata": {},
   "source": [
    "#### Choosing alpha value with cross validation"
   ]
  },
  {
   "cell_type": "code",
   "execution_count": 46,
   "id": "a23468d8",
   "metadata": {},
   "outputs": [
    {
     "data": {
      "text/plain": [
       "10.0"
      ]
     },
     "execution_count": 46,
     "metadata": {},
     "output_type": "execute_result"
    }
   ],
   "source": [
    "# create the model\n",
    "ridge_cv_model = RidgeCV(alphas=(0.1, 1.0, 10.0),scoring='neg_mean_absolute_error')\n",
    "\n",
    "# fit the model \n",
    "ridge_cv_model.fit(scaled_X_train, y_train)\n",
    "\n",
    "ridge_cv_model.alpha_"
   ]
  },
  {
   "cell_type": "markdown",
   "id": "e7cd8326",
   "metadata": {},
   "source": [
    "#### Lasso Regression"
   ]
  },
  {
   "cell_type": "code",
   "execution_count": 47,
   "id": "e2b428c7",
   "metadata": {},
   "outputs": [],
   "source": [
    "lasso_cv_model = LassoCV(eps=0.1,n_alphas=100,cv=5)\n",
    "\n",
    "lasso_cv_model.fit(scaled_X_train, y_train)\n",
    "\n",
    "y_pred= lasso_cv_model.predict(scaled_X_test)"
   ]
  },
  {
   "cell_type": "code",
   "execution_count": 48,
   "id": "ee555142",
   "metadata": {},
   "outputs": [
    {
     "data": {
      "text/plain": [
       "0.1772069402192157"
      ]
     },
     "execution_count": 48,
     "metadata": {},
     "output_type": "execute_result"
    }
   ],
   "source": [
    "# evaluate model performance\n",
    "mae= mean_absolute_error(y_test,y_pred)\n",
    "mae"
   ]
  },
  {
   "cell_type": "code",
   "execution_count": 49,
   "id": "afbff234",
   "metadata": {},
   "outputs": [
    {
     "data": {
      "text/plain": [
       "0.049080555971406446"
      ]
     },
     "execution_count": 49,
     "metadata": {},
     "output_type": "execute_result"
    }
   ],
   "source": [
    "# evaluate model performance\n",
    "mse= mean_squared_error(y_test, y_pred)\n",
    "mse"
   ]
  },
  {
   "cell_type": "code",
   "execution_count": 50,
   "id": "dcfc6d96",
   "metadata": {},
   "outputs": [
    {
     "data": {
      "text/plain": [
       "0.9244652443677643"
      ]
     },
     "execution_count": 50,
     "metadata": {},
     "output_type": "execute_result"
    }
   ],
   "source": [
    "# measure goodnes of fit\n",
    "\n",
    "r_square= lasso_cv_model.score(scaled_X_train, y_train)\n",
    "r_square"
   ]
  },
  {
   "cell_type": "markdown",
   "id": "cd156c46",
   "metadata": {},
   "source": [
    "#### Elastic Net"
   ]
  },
  {
   "cell_type": "code",
   "execution_count": 51,
   "id": "f694158f",
   "metadata": {},
   "outputs": [],
   "source": [
    "# build elastic net model\n",
    "elastic_model = ElasticNetCV(l1_ratio=[.1, .5, .7,.9, .95, .99, 1],tol=0.01)\n",
    "\n",
    "elastic_model.fit(scaled_X_train, y_train)\n",
    "\n",
    "y_pred= elastic_model.predict(scaled_X_test)"
   ]
  },
  {
   "cell_type": "code",
   "execution_count": 52,
   "id": "cf77ba17",
   "metadata": {},
   "outputs": [
    {
     "data": {
      "text/plain": [
       "0.13853832800723023"
      ]
     },
     "execution_count": 52,
     "metadata": {},
     "output_type": "execute_result"
    }
   ],
   "source": [
    "# model performance\n",
    "mae= mean_absolute_error(y_test,y_pred)\n",
    "mae"
   ]
  },
  {
   "cell_type": "code",
   "execution_count": 53,
   "id": "0e252233",
   "metadata": {},
   "outputs": [
    {
     "data": {
      "text/plain": [
       "0.030567504586597124"
      ]
     },
     "execution_count": 53,
     "metadata": {},
     "output_type": "execute_result"
    }
   ],
   "source": [
    "# model performance\n",
    "mse= mean_squared_error(y_test, y_pred)\n",
    "mse"
   ]
  },
  {
   "cell_type": "code",
   "execution_count": 54,
   "id": "c4606990",
   "metadata": {},
   "outputs": [
    {
     "data": {
      "text/plain": [
       "0.9529613705195545"
      ]
     },
     "execution_count": 54,
     "metadata": {},
     "output_type": "execute_result"
    }
   ],
   "source": [
    "# measure goodness of fit\n",
    "\n",
    "r_square= elastic_model.score(scaled_X_train, y_train)\n",
    "r_square"
   ]
  },
  {
   "cell_type": "code",
   "execution_count": 55,
   "id": "5e1a1b6e",
   "metadata": {},
   "outputs": [
    {
     "data": {
      "text/plain": [
       "array([ 7.50338429e-01, -0.00000000e+00,  0.00000000e+00,  1.64814637e-01,\n",
       "       -5.63407155e-03, -1.94776759e-02,  5.00041485e-03, -4.12333558e-03,\n",
       "        6.52125207e-02,  6.31810002e-03,  1.31101986e-02, -8.67248632e-02,\n",
       "        1.07365095e-02,  5.83327996e-04, -2.84054039e-02, -3.01933596e-03,\n",
       "        2.59791859e-03,  1.20604843e-02,  2.19799699e-07, -1.45021349e-03,\n",
       "       -1.18657541e-03, -2.70065141e-03, -6.17046687e-03, -3.32906302e-03,\n",
       "        1.45672431e-02, -1.10964228e-03,  3.88936600e-03, -0.00000000e+00,\n",
       "        1.61880426e-04])"
      ]
     },
     "execution_count": 55,
     "metadata": {},
     "output_type": "execute_result"
    }
   ],
   "source": [
    "elastic_model.coef_"
   ]
  },
  {
   "cell_type": "markdown",
   "id": "1d37a4d3",
   "metadata": {},
   "source": [
    "### Final Model"
   ]
  },
  {
   "cell_type": "code",
   "execution_count": 56,
   "id": "352bf54b",
   "metadata": {},
   "outputs": [
    {
     "data": {
      "text/plain": [
       "LinearRegression()"
      ]
     },
     "execution_count": 56,
     "metadata": {},
     "output_type": "execute_result"
    }
   ],
   "source": [
    "final_model= LinearRegression()\n",
    "\n",
    "final_model.fit(X, y)"
   ]
  },
  {
   "cell_type": "code",
   "execution_count": 57,
   "id": "5234731c",
   "metadata": {},
   "outputs": [],
   "source": [
    "y_hat = final_model.predict(X)"
   ]
  },
  {
   "cell_type": "code",
   "execution_count": 58,
   "id": "f967e08d",
   "metadata": {},
   "outputs": [
    {
     "data": {
      "text/plain": [
       "array([ 9.97456051e-01,  3.99862413e-04,  2.85379893e-04,  4.30660663e+10,\n",
       "       -6.60465377e+10, -5.07994516e+01,  8.12877926e-03, -6.86946097e-03,\n",
       "        1.55216951e-01, -2.63938539e+10,  1.28696538e+11,  8.75236470e+10,\n",
       "       -1.34625752e+10, -4.20704194e+10,  8.75729668e+10, -4.34971419e+10,\n",
       "       -2.54317855e+10,  6.48827149e+10, -5.25196671e+10, -9.83393487e+10,\n",
       "       -1.08845268e+11, -6.55972395e+10,  6.17641978e+10,  9.31236698e+09,\n",
       "       -9.37777246e+09, -8.57177800e+10,  1.36800188e+11, -5.73827367e-04,\n",
       "        3.46835414e-03])"
      ]
     },
     "execution_count": 58,
     "metadata": {},
     "output_type": "execute_result"
    }
   ],
   "source": [
    "final_model.coef_"
   ]
  },
  {
   "cell_type": "code",
   "execution_count": 59,
   "id": "938e44d0",
   "metadata": {},
   "outputs": [
    {
     "data": {
      "text/html": [
       "<div>\n",
       "<style scoped>\n",
       "    .dataframe tbody tr th:only-of-type {\n",
       "        vertical-align: middle;\n",
       "    }\n",
       "\n",
       "    .dataframe tbody tr th {\n",
       "        vertical-align: top;\n",
       "    }\n",
       "\n",
       "    .dataframe thead th {\n",
       "        text-align: right;\n",
       "    }\n",
       "</style>\n",
       "<table border=\"1\" class=\"dataframe\">\n",
       "  <thead>\n",
       "    <tr style=\"text-align: right;\">\n",
       "      <th></th>\n",
       "      <th>Coefficient</th>\n",
       "    </tr>\n",
       "  </thead>\n",
       "  <tbody>\n",
       "    <tr>\n",
       "      <th>Cost_of_Trip</th>\n",
       "      <td>9.974561e-01</td>\n",
       "    </tr>\n",
       "    <tr>\n",
       "      <th>Age</th>\n",
       "      <td>3.998624e-04</td>\n",
       "    </tr>\n",
       "    <tr>\n",
       "      <th>Income_(USD/Month)</th>\n",
       "      <td>2.853799e-04</td>\n",
       "    </tr>\n",
       "    <tr>\n",
       "      <th>Population</th>\n",
       "      <td>4.306607e+10</td>\n",
       "    </tr>\n",
       "    <tr>\n",
       "      <th>Users</th>\n",
       "      <td>-6.604654e+10</td>\n",
       "    </tr>\n",
       "    <tr>\n",
       "      <th>Year</th>\n",
       "      <td>-5.079945e+01</td>\n",
       "    </tr>\n",
       "    <tr>\n",
       "      <th>Month</th>\n",
       "      <td>8.128779e-03</td>\n",
       "    </tr>\n",
       "    <tr>\n",
       "      <th>Day</th>\n",
       "      <td>-6.869461e-03</td>\n",
       "    </tr>\n",
       "    <tr>\n",
       "      <th>Company_Yellow Cab</th>\n",
       "      <td>1.552170e-01</td>\n",
       "    </tr>\n",
       "    <tr>\n",
       "      <th>City_AUSTIN TX</th>\n",
       "      <td>-2.639385e+10</td>\n",
       "    </tr>\n",
       "    <tr>\n",
       "      <th>City_BOSTON MA</th>\n",
       "      <td>1.286965e+11</td>\n",
       "    </tr>\n",
       "    <tr>\n",
       "      <th>City_CHICAGO IL</th>\n",
       "      <td>8.752365e+10</td>\n",
       "    </tr>\n",
       "    <tr>\n",
       "      <th>City_DALLAS TX</th>\n",
       "      <td>-1.346258e+10</td>\n",
       "    </tr>\n",
       "    <tr>\n",
       "      <th>City_DENVER CO</th>\n",
       "      <td>-4.207042e+10</td>\n",
       "    </tr>\n",
       "    <tr>\n",
       "      <th>City_LOS ANGELES CA</th>\n",
       "      <td>8.757297e+10</td>\n",
       "    </tr>\n",
       "    <tr>\n",
       "      <th>City_MIAMI FL</th>\n",
       "      <td>-4.349714e+10</td>\n",
       "    </tr>\n",
       "    <tr>\n",
       "      <th>City_NASHVILLE TN</th>\n",
       "      <td>-2.543179e+10</td>\n",
       "    </tr>\n",
       "    <tr>\n",
       "      <th>City_NEW YORK NY</th>\n",
       "      <td>6.488271e+10</td>\n",
       "    </tr>\n",
       "    <tr>\n",
       "      <th>City_ORANGE COUNTY</th>\n",
       "      <td>-5.251967e+10</td>\n",
       "    </tr>\n",
       "    <tr>\n",
       "      <th>City_PHOENIX AZ</th>\n",
       "      <td>-9.833935e+10</td>\n",
       "    </tr>\n",
       "    <tr>\n",
       "      <th>City_PITTSBURGH PA</th>\n",
       "      <td>-1.088453e+11</td>\n",
       "    </tr>\n",
       "    <tr>\n",
       "      <th>City_SACRAMENTO CA</th>\n",
       "      <td>-6.559724e+10</td>\n",
       "    </tr>\n",
       "    <tr>\n",
       "      <th>City_SAN DIEGO CA</th>\n",
       "      <td>6.176420e+10</td>\n",
       "    </tr>\n",
       "    <tr>\n",
       "      <th>City_SEATTLE WA</th>\n",
       "      <td>9.312367e+09</td>\n",
       "    </tr>\n",
       "    <tr>\n",
       "      <th>City_SILICON VALLEY</th>\n",
       "      <td>-9.377772e+09</td>\n",
       "    </tr>\n",
       "    <tr>\n",
       "      <th>City_TUCSON AZ</th>\n",
       "      <td>-8.571778e+10</td>\n",
       "    </tr>\n",
       "    <tr>\n",
       "      <th>City_WASHINGTON DC</th>\n",
       "      <td>1.368002e+11</td>\n",
       "    </tr>\n",
       "    <tr>\n",
       "      <th>Payment_Mode_Cash</th>\n",
       "      <td>-5.738274e-04</td>\n",
       "    </tr>\n",
       "    <tr>\n",
       "      <th>Gender_Male</th>\n",
       "      <td>3.468354e-03</td>\n",
       "    </tr>\n",
       "  </tbody>\n",
       "</table>\n",
       "</div>"
      ],
      "text/plain": [
       "                      Coefficient\n",
       "Cost_of_Trip         9.974561e-01\n",
       "Age                  3.998624e-04\n",
       "Income_(USD/Month)   2.853799e-04\n",
       "Population           4.306607e+10\n",
       "Users               -6.604654e+10\n",
       "Year                -5.079945e+01\n",
       "Month                8.128779e-03\n",
       "Day                 -6.869461e-03\n",
       "Company_Yellow Cab   1.552170e-01\n",
       "City_AUSTIN TX      -2.639385e+10\n",
       "City_BOSTON MA       1.286965e+11\n",
       "City_CHICAGO IL      8.752365e+10\n",
       "City_DALLAS TX      -1.346258e+10\n",
       "City_DENVER CO      -4.207042e+10\n",
       "City_LOS ANGELES CA  8.757297e+10\n",
       "City_MIAMI FL       -4.349714e+10\n",
       "City_NASHVILLE TN   -2.543179e+10\n",
       "City_NEW YORK NY     6.488271e+10\n",
       "City_ORANGE COUNTY  -5.251967e+10\n",
       "City_PHOENIX AZ     -9.833935e+10\n",
       "City_PITTSBURGH PA  -1.088453e+11\n",
       "City_SACRAMENTO CA  -6.559724e+10\n",
       "City_SAN DIEGO CA    6.176420e+10\n",
       "City_SEATTLE WA      9.312367e+09\n",
       "City_SILICON VALLEY -9.377772e+09\n",
       "City_TUCSON AZ      -8.571778e+10\n",
       "City_WASHINGTON DC   1.368002e+11\n",
       "Payment_Mode_Cash   -5.738274e-04\n",
       "Gender_Male          3.468354e-03"
      ]
     },
     "execution_count": 59,
     "metadata": {},
     "output_type": "execute_result"
    }
   ],
   "source": [
    "coeff_df = pd.DataFrame(final_model.coef_,X.columns,columns=['Coefficient'])\n",
    "coeff_df"
   ]
  },
  {
   "cell_type": "code",
   "execution_count": null,
   "id": "6dc388df",
   "metadata": {},
   "outputs": [],
   "source": []
  }
 ],
 "metadata": {
  "kernelspec": {
   "display_name": "Python 3",
   "language": "python",
   "name": "python3"
  },
  "language_info": {
   "codemirror_mode": {
    "name": "ipython",
    "version": 3
   },
   "file_extension": ".py",
   "mimetype": "text/x-python",
   "name": "python",
   "nbconvert_exporter": "python",
   "pygments_lexer": "ipython3",
   "version": "3.8.8"
  }
 },
 "nbformat": 4,
 "nbformat_minor": 5
}
